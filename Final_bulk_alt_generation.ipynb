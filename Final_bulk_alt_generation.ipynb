{
  "nbformat": 4,
  "nbformat_minor": 0,
  "metadata": {
    "colab": {
      "name": "Final_bulk_alt_generation.ipynb",
      "provenance": [],
      "authorship_tag": "ABX9TyOlL8MD6/vsAQoIoaj9lodl",
      "include_colab_link": true
    },
    "kernelspec": {
      "name": "python3",
      "display_name": "Python 3"
    },
    "language_info": {
      "name": "python"
    }
  },
  "cells": [
    {
      "cell_type": "markdown",
      "metadata": {
        "id": "view-in-github",
        "colab_type": "text"
      },
      "source": [
        "<a href=\"https://colab.research.google.com/github/vjstha20/Automatic-ALT-Text-Generator/blob/main/Final_bulk_alt_generation.ipynb\" target=\"_parent\"><img src=\"https://colab.research.google.com/assets/colab-badge.svg\" alt=\"Open In Colab\"/></a>"
      ]
    },
    {
      "cell_type": "code",
      "execution_count": null,
      "metadata": {
        "id": "nJ-M93AQAaFT"
      },
      "outputs": [],
      "source": [
        "!pip install azure-cognitiveservices-vision-computervision"
      ]
    },
    {
      "cell_type": "code",
      "source": [
        "from azure.cognitiveservices.vision.computervision import ComputerVisionClient\n",
        "from azure.cognitiveservices.vision.computervision.models import OperationStatusCodes\n",
        "from azure.cognitiveservices.vision.computervision.models import VisualFeatureTypes\n",
        "from msrest.authentication import CognitiveServicesCredentials\n",
        "from array import array\n",
        "import os\n",
        "import json\n",
        "import requests\n",
        "from PIL import Image\n",
        "import sys\n",
        "import time\n",
        "from urllib.parse import urlparse\n",
        "import pandas as pd"
      ],
      "metadata": {
        "id": "Y7FweFLHAi8f"
      },
      "execution_count": null,
      "outputs": []
    },
    {
      "cell_type": "code",
      "source": [
        "df1 = pd.DataFrame()\n",
        "pd.set_option('display.max_rows',10)\n",
        "pd.set_option('display.max_columns',10)"
      ],
      "metadata": {
        "id": "7fGF6EoVAjcX"
      },
      "execution_count": null,
      "outputs": []
    },
    {
      "cell_type": "code",
      "source": [
        "excel_file = '/content/sample_urls.csv'  # please upload your excel file containing image urls to this colab notebook and include the path of the file in this variable"
      ],
      "metadata": {
        "id": "Gj3CKK-5AlC8"
      },
      "execution_count": null,
      "outputs": []
    },
    {
      "cell_type": "code",
      "source": [
        "result_desc = pd.Series([],dtype=pd.StringDtype(), name = \"ALT Text\")\n",
        "result_confi = pd.Series([],dtype=pd.StringDtype(), name = \"Confidence\")\n",
        "result_url = pd.Series([],dtype=pd.StringDtype(), name = \"URLs\")"
      ],
      "metadata": {
        "id": "4qev68C8AnI3"
      },
      "execution_count": null,
      "outputs": []
    },
    {
      "cell_type": "code",
      "source": [
        "subscription_key = \"YOUR SUBSCRIPTION KEY HERE\"\n",
        "endpoint = \"YOUR ENDPOINT HERE\"\n",
        "#remote_image_url = \"https://rtfglobal.com/wp-content/uploads/2022/02/phone-wall.png\"\n"
      ],
      "metadata": {
        "id": "qbOA1DDwApKc"
      },
      "execution_count": null,
      "outputs": []
    },
    {
      "cell_type": "code",
      "source": [
        "computervision_client = ComputerVisionClient(endpoint, CognitiveServicesCredentials(subscription_key))"
      ],
      "metadata": {
        "id": "pAtQFlHMAq7W"
      },
      "execution_count": null,
      "outputs": []
    },
    {
      "cell_type": "code",
      "source": [
        "#description_results = computervision_client.describe_image(remote_image_url)\n",
        "\n",
        "df_excel = pd.read_csv(excel_file)  #creating dataframe for the excel file. Make sure the excel file has the column named 'Image URL'"
      ],
      "metadata": {
        "id": "H_7nRO2JAsrm"
      },
      "execution_count": null,
      "outputs": []
    },
    {
      "cell_type": "code",
      "source": [
        "urls = df_excel['Image URL'].values\n",
        "\n",
        "i = 0\n",
        "\n",
        "while i < len(urls):\n",
        "    description_results = computervision_client.describe_image(urls[i])\n",
        "    if (len(description_results.captions) == 0):\n",
        "        result_url[i] = urls[i]\n",
        "        result_desc[i] = \"NA\"\n",
        "        result_confi[i]= \"NA\"\n",
        "        i += 1\n",
        "        time.sleep(4)\n",
        "    else:\n",
        "        for caption in description_results.captions:\n",
        "            result_url[i] = urls[i]\n",
        "            result_desc[i] = caption.text\n",
        "            result_confi[i] = caption.confidence\n",
        "        i += 1\n",
        "        time.sleep(4)\n",
        " \n",
        "result_desc.to_frame('ALT Text')\n",
        "result_url.to_frame('URL')\n",
        "result_confi.to_frame('Confidence')\n",
        "\n",
        "\n",
        "#print(result_url)\n",
        "#print(result_desc)\n",
        "#print(result_confi)"
      ],
      "metadata": {
        "id": "12cagvaeAuOI"
      },
      "execution_count": null,
      "outputs": []
    },
    {
      "cell_type": "code",
      "source": [
        "\n",
        "df1 = pd.DataFrame([result_desc])\n",
        "df2 = pd.DataFrame([result_confi])\n",
        "frames = [result_url,result_desc,result_confi]\n",
        "final_df = pd.concat(frames, axis =1)\n",
        "#print(df1)\n",
        "#print(df2)\n",
        "#print(final_df)\n",
        "final_df.to_excel('/content/output.xlsx', index = False) #output will be saved in this location\n",
        "print(\"Done!\")\n",
        "\n",
        "\n",
        "'''\n",
        "\n",
        "print(\"Description of the given image: \")\n",
        "if (len(description_results.captions) == 0):\n",
        "    print(\"No description detected.\")\n",
        "else:\n",
        "    for caption in description_results.captions:\n",
        "        print(\"'{}' with confidence {:.2f}%\".format(caption.text, caption.confidence * 100))\n",
        "        description = '{\"description\": \"'+ caption.text + '\"}'\n",
        "\n",
        "'''\n"
      ],
      "metadata": {
        "id": "bc5l9oATAwLW"
      },
      "execution_count": null,
      "outputs": []
    },
    {
      "cell_type": "markdown",
      "source": [
        "Output will generated and saved at the file section of this notebook. Please make sure to delete the output file before running the script again. "
      ],
      "metadata": {
        "id": "dn7vK3Cix7Xj"
      }
    }
  ]
}